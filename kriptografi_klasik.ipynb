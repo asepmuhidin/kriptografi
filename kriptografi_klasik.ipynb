{
  "nbformat": 4,
  "nbformat_minor": 0,
  "metadata": {
    "colab": {
      "name": "kriptografi_klasik_1.ipynb",
      "provenance": [],
      "authorship_tag": "ABX9TyPUaXODdYE9+4+L92NyEJ58",
      "include_colab_link": true
    },
    "kernelspec": {
      "name": "python3",
      "display_name": "Python 3"
    },
    "language_info": {
      "name": "python"
    }
  },
  "cells": [
    {
      "cell_type": "markdown",
      "metadata": {
        "id": "view-in-github",
        "colab_type": "text"
      },
      "source": [
        "<a href=\"https://colab.research.google.com/github/asepmuhidin/kriptografi/blob/main/kriptografi_klasik.ipynb\" target=\"_parent\"><img src=\"https://colab.research.google.com/assets/colab-badge.svg\" alt=\"Open In Colab\"/></a>"
      ]
    },
    {
      "cell_type": "code",
      "metadata": {
        "colab": {
          "base_uri": "https://localhost:8080/"
        },
        "id": "5Rso-7gajQUS",
        "outputId": "413b0900-3bb5-4d4f-8bf4-dcc5e5188615"
      },
      "source": [
        "plain_teks=\"Indonesia Raya\"\n",
        "type(plain_teks)"
      ],
      "execution_count": 1,
      "outputs": [
        {
          "output_type": "execute_result",
          "data": {
            "text/plain": [
              "str"
            ]
          },
          "metadata": {},
          "execution_count": 1
        }
      ]
    },
    {
      "cell_type": "code",
      "metadata": {
        "colab": {
          "base_uri": "https://localhost:8080/",
          "height": 35
        },
        "id": "FsjD-lZGjmWm",
        "outputId": "7cd6bbf6-faf1-477d-8c3f-59ad34b5ea26"
      },
      "source": [
        "list1=['a','b','c']\n",
        "list1[0]"
      ],
      "execution_count": 2,
      "outputs": [
        {
          "output_type": "execute_result",
          "data": {
            "application/vnd.google.colaboratory.intrinsic+json": {
              "type": "string"
            },
            "text/plain": [
              "'a'"
            ]
          },
          "metadata": {},
          "execution_count": 2
        }
      ]
    },
    {
      "cell_type": "code",
      "metadata": {
        "colab": {
          "base_uri": "https://localhost:8080/",
          "height": 35
        },
        "id": "9ShKdchckPeO",
        "outputId": "17339d29-2465-4318-d7a5-80eaf1c21dff"
      },
      "source": [
        "#String juga dalah merupakan list\n",
        "plain_teks[1]"
      ],
      "execution_count": 3,
      "outputs": [
        {
          "output_type": "execute_result",
          "data": {
            "application/vnd.google.colaboratory.intrinsic+json": {
              "type": "string"
            },
            "text/plain": [
              "'n'"
            ]
          },
          "metadata": {},
          "execution_count": 3
        }
      ]
    },
    {
      "cell_type": "code",
      "metadata": {
        "colab": {
          "base_uri": "https://localhost:8080/"
        },
        "id": "JaMBMjc6kiqo",
        "outputId": "bc104729-4aab-46cd-ea5a-887383ccd460"
      },
      "source": [
        "len(list1)"
      ],
      "execution_count": 4,
      "outputs": [
        {
          "output_type": "execute_result",
          "data": {
            "text/plain": [
              "3"
            ]
          },
          "metadata": {},
          "execution_count": 4
        }
      ]
    },
    {
      "cell_type": "code",
      "metadata": {
        "colab": {
          "base_uri": "https://localhost:8080/"
        },
        "id": "QTnRRzRhkqMi",
        "outputId": "29de7c67-f0c9-47ea-feef-0b45177420af"
      },
      "source": [
        "len(plain_teks)"
      ],
      "execution_count": 5,
      "outputs": [
        {
          "output_type": "execute_result",
          "data": {
            "text/plain": [
              "14"
            ]
          },
          "metadata": {},
          "execution_count": 5
        }
      ]
    },
    {
      "cell_type": "code",
      "metadata": {
        "colab": {
          "base_uri": "https://localhost:8080/"
        },
        "id": "pT02BpSUk748",
        "outputId": "1999b4df-df8a-4f0c-f444-25cedf6d221a"
      },
      "source": [
        "for i in range(5):\n",
        "  print(i)"
      ],
      "execution_count": 6,
      "outputs": [
        {
          "output_type": "stream",
          "name": "stdout",
          "text": [
            "0\n",
            "1\n",
            "2\n",
            "3\n",
            "4\n"
          ]
        }
      ]
    },
    {
      "cell_type": "code",
      "metadata": {
        "colab": {
          "base_uri": "https://localhost:8080/"
        },
        "id": "oHGzIvEKlk5D",
        "outputId": "87fac365-ded4-4de6-e86a-d01a9421870f"
      },
      "source": [
        "#range(strat,end, step)\n",
        "for i in range(5,-1,-1):\n",
        "  print(i)\n"
      ],
      "execution_count": 7,
      "outputs": [
        {
          "output_type": "stream",
          "name": "stdout",
          "text": [
            "5\n",
            "4\n",
            "3\n",
            "2\n",
            "1\n",
            "0\n"
          ]
        }
      ]
    },
    {
      "cell_type": "code",
      "metadata": {
        "colab": {
          "base_uri": "https://localhost:8080/"
        },
        "id": "YBacLGP7mDsk",
        "outputId": "1263d258-a8d2-48fd-de41-e4c54eb4fdaa"
      },
      "source": [
        "enkripsi=\"\"\n",
        "for i in range(len(plain_teks)-1,-1,-1):\n",
        "  enkripsi +=plain_teks[i]\n",
        "\n",
        "print(enkripsi)"
      ],
      "execution_count": 8,
      "outputs": [
        {
          "output_type": "stream",
          "name": "stdout",
          "text": [
            "ayaR aisenodnI\n"
          ]
        }
      ]
    },
    {
      "cell_type": "code",
      "metadata": {
        "id": "zhXqkOEmmqZM"
      },
      "source": [
        "def reverse_chiper(plain_teks):\n",
        "  enkripsi=\"\"\n",
        "  for i in range(len(plain_teks)-1,-1,-1):\n",
        "    enkripsi +=plain_teks[i]\n",
        "  return enkripsi  "
      ],
      "execution_count": 9,
      "outputs": []
    },
    {
      "cell_type": "code",
      "metadata": {
        "colab": {
          "base_uri": "https://localhost:8080/"
        },
        "id": "Wu3TfJN5nH-m",
        "outputId": "ea0ed207-9da8-4b48-9d4d-246f66181236"
      },
      "source": [
        "teks=\"Apabila anda mengubah isi dari variabel pesan menjadi ayaR aisenodnI\"\n",
        "enkripsi=reverse_chiper(teks)\n",
        "print(enkripsi)\n",
        "enkripsi=reverse_chiper(enkripsi)\n",
        "print(enkripsi)"
      ],
      "execution_count": 10,
      "outputs": [
        {
          "output_type": "stream",
          "name": "stdout",
          "text": [
            "Indonesia Raya idajnem nasep lebairav irad isi habugnem adna alibapA\n",
            "Apabila anda mengubah isi dari variabel pesan menjadi ayaR aisenodnI\n"
          ]
        }
      ]
    },
    {
      "cell_type": "code",
      "metadata": {
        "id": "faJ3I9l-sy4C"
      },
      "source": [
        "alphabet ='ABCDEFGHIJKLMNOPQRSTUVWXYZ'\n",
        "plain_teks=\"Indonesia Raya\""
      ],
      "execution_count": 11,
      "outputs": []
    },
    {
      "cell_type": "code",
      "metadata": {
        "colab": {
          "base_uri": "https://localhost:8080/",
          "height": 35
        },
        "id": "zzpf9L7PtKqK",
        "outputId": "bfe9faba-73e0-42f9-c3e2-1c1c9ac551b6"
      },
      "source": [
        "#Merubah plain teks menjadi hurup besar\n",
        "plain_teks=plain_teks.upper()\n",
        "plain_teks"
      ],
      "execution_count": 12,
      "outputs": [
        {
          "output_type": "execute_result",
          "data": {
            "application/vnd.google.colaboratory.intrinsic+json": {
              "type": "string"
            },
            "text/plain": [
              "'INDONESIA RAYA'"
            ]
          },
          "metadata": {},
          "execution_count": 12
        }
      ]
    },
    {
      "cell_type": "code",
      "metadata": {
        "id": "loGILybWtk_C"
      },
      "source": [
        "geser=3"
      ],
      "execution_count": 13,
      "outputs": []
    },
    {
      "cell_type": "code",
      "metadata": {
        "colab": {
          "base_uri": "https://localhost:8080/"
        },
        "id": "DKmJgXBItw2P",
        "outputId": "1ccc0e06-29de-41d5-ef84-b2a110a7481d"
      },
      "source": [
        "for hurup in plain_teks:\n",
        "  print(hurup, end=\"\")"
      ],
      "execution_count": 14,
      "outputs": [
        {
          "output_type": "stream",
          "name": "stdout",
          "text": [
            "INDONESIA RAYA"
          ]
        }
      ]
    },
    {
      "cell_type": "code",
      "metadata": {
        "colab": {
          "base_uri": "https://localhost:8080/"
        },
        "id": "zd7TczTzuCjQ",
        "outputId": "d3936f42-4367-46fb-953f-04e2d26cc1db"
      },
      "source": [
        "for hurup in plain_teks:\n",
        "  enkripsi=alphabet.find(hurup)\n",
        "  print(f\"{hurup} adalah berada pada index ke {enkripsi} dari alphabet \")"
      ],
      "execution_count": 15,
      "outputs": [
        {
          "output_type": "stream",
          "name": "stdout",
          "text": [
            "I adalah berada pada index ke 8 dari alphabet \n",
            "N adalah berada pada index ke 13 dari alphabet \n",
            "D adalah berada pada index ke 3 dari alphabet \n",
            "O adalah berada pada index ke 14 dari alphabet \n",
            "N adalah berada pada index ke 13 dari alphabet \n",
            "E adalah berada pada index ke 4 dari alphabet \n",
            "S adalah berada pada index ke 18 dari alphabet \n",
            "I adalah berada pada index ke 8 dari alphabet \n",
            "A adalah berada pada index ke 0 dari alphabet \n",
            "  adalah berada pada index ke -1 dari alphabet \n",
            "R adalah berada pada index ke 17 dari alphabet \n",
            "A adalah berada pada index ke 0 dari alphabet \n",
            "Y adalah berada pada index ke 24 dari alphabet \n",
            "A adalah berada pada index ke 0 dari alphabet \n"
          ]
        }
      ]
    },
    {
      "cell_type": "code",
      "metadata": {
        "colab": {
          "base_uri": "https://localhost:8080/"
        },
        "id": "AmyYYiMku00Z",
        "outputId": "ecce0e06-effe-46d7-e365-ad922f02c40d"
      },
      "source": [
        "for hurup in plain_teks:\n",
        "  enkripsi=(alphabet.find(hurup)+geser) % 26\n",
        "  print(f\"{hurup} adalah berada pada index ke {enkripsi} dari alphabet setelah digeser 3\")"
      ],
      "execution_count": 16,
      "outputs": [
        {
          "output_type": "stream",
          "name": "stdout",
          "text": [
            "I adalah berada pada index ke 11 dari alphabet setelah digeser 3\n",
            "N adalah berada pada index ke 16 dari alphabet setelah digeser 3\n",
            "D adalah berada pada index ke 6 dari alphabet setelah digeser 3\n",
            "O adalah berada pada index ke 17 dari alphabet setelah digeser 3\n",
            "N adalah berada pada index ke 16 dari alphabet setelah digeser 3\n",
            "E adalah berada pada index ke 7 dari alphabet setelah digeser 3\n",
            "S adalah berada pada index ke 21 dari alphabet setelah digeser 3\n",
            "I adalah berada pada index ke 11 dari alphabet setelah digeser 3\n",
            "A adalah berada pada index ke 3 dari alphabet setelah digeser 3\n",
            "  adalah berada pada index ke 2 dari alphabet setelah digeser 3\n",
            "R adalah berada pada index ke 20 dari alphabet setelah digeser 3\n",
            "A adalah berada pada index ke 3 dari alphabet setelah digeser 3\n",
            "Y adalah berada pada index ke 1 dari alphabet setelah digeser 3\n",
            "A adalah berada pada index ke 3 dari alphabet setelah digeser 3\n"
          ]
        }
      ]
    },
    {
      "cell_type": "code",
      "metadata": {
        "colab": {
          "base_uri": "https://localhost:8080/"
        },
        "id": "qEdLELqMvWkz",
        "outputId": "c4b4dc55-a7cd-413a-8e10-17111455e706"
      },
      "source": [
        "for hurup in plain_teks:\n",
        "  enkripsi=alphabet[(alphabet.find(hurup)+geser) % 26]\n",
        "  print(f\"{hurup} menjadi {enkripsi} setelah di enkripsi\")"
      ],
      "execution_count": 17,
      "outputs": [
        {
          "output_type": "stream",
          "name": "stdout",
          "text": [
            "I menjadi L setelah di enkripsi\n",
            "N menjadi Q setelah di enkripsi\n",
            "D menjadi G setelah di enkripsi\n",
            "O menjadi R setelah di enkripsi\n",
            "N menjadi Q setelah di enkripsi\n",
            "E menjadi H setelah di enkripsi\n",
            "S menjadi V setelah di enkripsi\n",
            "I menjadi L setelah di enkripsi\n",
            "A menjadi D setelah di enkripsi\n",
            "  menjadi C setelah di enkripsi\n",
            "R menjadi U setelah di enkripsi\n",
            "A menjadi D setelah di enkripsi\n",
            "Y menjadi B setelah di enkripsi\n",
            "A menjadi D setelah di enkripsi\n"
          ]
        }
      ]
    },
    {
      "cell_type": "code",
      "metadata": {
        "colab": {
          "base_uri": "https://localhost:8080/"
        },
        "id": "dL3uIXDDv0xs",
        "outputId": "afa58b78-e4d5-438c-be70-b7b3aed29cbb"
      },
      "source": [
        "plain_teks='Indonesia Raya'\n",
        "enkripsi=\"\"\n",
        "for hurup in plain_teks:\n",
        "  if hurup==\" \":\n",
        "    enkripsi +=\"\"\n",
        "  else :    \n",
        "    enkripsi +=alphabet[(alphabet.find(hurup)+geser) % 26]\n",
        "\n",
        "print(plain_teks)\n",
        "print(enkripsi)"
      ],
      "execution_count": 18,
      "outputs": [
        {
          "output_type": "stream",
          "name": "stdout",
          "text": [
            "Indonesia Raya\n",
            "LCCCCCCCCUCCC\n"
          ]
        }
      ]
    },
    {
      "cell_type": "code",
      "metadata": {
        "id": "Mg0Icmo3xwG9"
      },
      "source": [
        "def caesar_chiper(plain_teks,n_shift):\n",
        "  alphabet ='ABCDEFGHIJKLMNOPQRSTUVWXYZ'\n",
        "  enkripsi=\"\"\n",
        "  for hurup in plain_teks.upper():\n",
        "    if hurup==\" \":\n",
        "      enkripsi +=\"\"\n",
        "    else :    \n",
        "      enkripsi +=alphabet[(alphabet.find(hurup)+n_shift) % 26]\n",
        "  return enkripsi"
      ],
      "execution_count": 19,
      "outputs": []
    },
    {
      "cell_type": "code",
      "metadata": {
        "colab": {
          "base_uri": "https://localhost:8080/"
        },
        "id": "fh4c_VrSyEUm",
        "outputId": "9378af6b-ef61-46bc-9db1-4552180444bf"
      },
      "source": [
        "pesan ='Indonesia Raya'\n",
        "e=caesar_chiper(pesan,9)\n",
        "print(e)"
      ],
      "execution_count": 20,
      "outputs": [
        {
          "output_type": "stream",
          "name": "stdout",
          "text": [
            "RWMXWNBRJAJHJ\n"
          ]
        }
      ]
    },
    {
      "cell_type": "code",
      "metadata": {
        "colab": {
          "base_uri": "https://localhost:8080/"
        },
        "id": "dwJ9t5i2xRVG",
        "outputId": "86a341de-4c3c-4101-e28f-d96ff5adab65"
      },
      "source": [
        "plain_teks=\"thisplaintext\"\n",
        "key=\"sony\"\n",
        "jum_loop=int(len(plain_teks)/len(key))\n",
        "sisa=len(plain_teks)%len(key)\n",
        "key_k=\"\"\n",
        "for i in range(jum_loop):\n",
        "  key_k +=key\n",
        "\n",
        "if sisa>0 :\n",
        "  for i in range(sisa):\n",
        "    key_k +=key[i]\n",
        "\n",
        "print(plain_teks)\n",
        "print(key_k)\n",
        " "
      ],
      "execution_count": 30,
      "outputs": [
        {
          "output_type": "stream",
          "name": "stdout",
          "text": [
            "thisplaintext\n",
            "sonysonysonys\n"
          ]
        }
      ]
    },
    {
      "cell_type": "code",
      "metadata": {
        "colab": {
          "base_uri": "https://localhost:8080/"
        },
        "id": "KhGFS54izK7V",
        "outputId": "d3ea984f-e597-4b4e-c2cd-c666275989d9"
      },
      "source": [
        "alphabet ='ABCDEFGHIJKLMNOPQRSTUVWXYZ'\n",
        "enkripsi=\"\"\n",
        "for i,hurup in enumerate(plain_teks.upper()):\n",
        "  idx_p=alphabet.find(hurup)\n",
        "  idx_k=alphabet.find(key_k.upper()[i])\n",
        "  idx=idx_p+idx_k\n",
        "  enkripsi +=alphabet[ idx % 26]\n",
        "  \n",
        "print(enkripsi)"
      ],
      "execution_count": 49,
      "outputs": [
        {
          "output_type": "stream",
          "name": "stdout",
          "text": [
            "LVVQHZNGFHRVL\n"
          ]
        }
      ]
    },
    {
      "cell_type": "code",
      "metadata": {
        "id": "473vPZSD2lpQ"
      },
      "source": [
        "def vigenere_chiper(p,k):\n",
        "  alphabet ='ABCDEFGHIJKLMNOPQRSTUVWXYZ'\n",
        "  enkripsi=\"\"\n",
        "\n",
        "  for i,hurup in enumerate(p.upper()):\n",
        "    idx_p=alphabet.find(hurup)\n",
        "    idx_k=alphabet.find(k.upper()[i])\n",
        "    idx=idx_p+idx_k\n",
        "    enkripsi +=alphabet[ idx % 26]\n",
        "\n",
        "  return enkripsi"
      ],
      "execution_count": 56,
      "outputs": []
    },
    {
      "cell_type": "code",
      "metadata": {
        "id": "wZcpc4jg246Z"
      },
      "source": [
        "def gen_keyvg(p,k):\n",
        "  jum_loop,sisa=int(len(p)/len(k)),len(p)%len(k)\n",
        "  key_k=\"\"\n",
        "  for i in range(jum_loop):\n",
        "    key_k +=k\n",
        "\n",
        "  if sisa>0 :\n",
        "    for i in range(sisa):\n",
        "      key_k +=k[i]\n",
        "  return key_k     "
      ],
      "execution_count": 54,
      "outputs": []
    },
    {
      "cell_type": "code",
      "metadata": {
        "colab": {
          "base_uri": "https://localhost:8080/"
        },
        "id": "D7ONNRGx3W32",
        "outputId": "7c22b965-6d4a-425b-83ef-a5b1b3def268"
      },
      "source": [
        "print(gen_keyvg(\"sayasuka\",\"masasih\"))"
      ],
      "execution_count": 55,
      "outputs": [
        {
          "output_type": "stream",
          "name": "stdout",
          "text": [
            "masasihm\n"
          ]
        }
      ]
    },
    {
      "cell_type": "code",
      "metadata": {
        "colab": {
          "base_uri": "https://localhost:8080/"
        },
        "id": "6ntfiCA94N8c",
        "outputId": "0a85179e-54fd-4401-c4c9-b3f6cecc1eb8"
      },
      "source": [
        "p=\"sayasuka\"\n",
        "k=\"masasih\"\n",
        "enkripsi_vg=vigenere_chiper(p,gen_keyvg(p,k))\n",
        "print(enkripsi_vg)"
      ],
      "execution_count": 57,
      "outputs": [
        {
          "output_type": "stream",
          "name": "stdout",
          "text": [
            "EAQAKCRM\n"
          ]
        }
      ]
    },
    {
      "cell_type": "code",
      "metadata": {
        "id": "f1AFB1334q9J"
      },
      "source": [
        ""
      ],
      "execution_count": null,
      "outputs": []
    }
  ]
}