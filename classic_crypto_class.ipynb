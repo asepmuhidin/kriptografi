{
  "nbformat": 4,
  "nbformat_minor": 0,
  "metadata": {
    "colab": {
      "name": "classic_crypto_class.ipynb",
      "provenance": [],
      "collapsed_sections": [],
      "include_colab_link": true
    },
    "kernelspec": {
      "name": "python3",
      "display_name": "Python 3"
    },
    "language_info": {
      "name": "python"
    },
    "accelerator": "GPU"
  },
  "cells": [
    {
      "cell_type": "markdown",
      "metadata": {
        "id": "view-in-github",
        "colab_type": "text"
      },
      "source": [
        "<a href=\"https://colab.research.google.com/github/asepmuhidin/kriptografi/blob/main/classic_crypto_class.ipynb\" target=\"_parent\"><img src=\"https://colab.research.google.com/assets/colab-badge.svg\" alt=\"Open In Colab\"/></a>"
      ]
    },
    {
      "cell_type": "code",
      "metadata": {
        "id": "dX66WEcE0bOj"
      },
      "source": [
        "class classic_crypto:\n",
        "  '''\n",
        "     Kumpulan kode kripto klasik\n",
        "     dibuat oleh Asep Muhidin, Dosen Universitas Pelita Bangsa, pada tanggal 02/11/2021\n",
        "     Methode Kripto (E=Enkripsi, D=Dekripsi) :\n",
        "     - Caesar chiper (E/D)   =======>100%\n",
        "     - Vigenere chiper (E/D) =======>100%\n",
        "  '''\n",
        "  ALPHABET='ABCDEFGHIJKLMNOPQRSTUVWXYZ'\n",
        "\n",
        "  def __init__(self):\n",
        "    pass\n",
        "\n",
        "  def caesar(self,plain_text,n_shift=5,decrypt=False):\n",
        "    \"\"\"Encrypt dan decrypt dengan metode caesar chiper\n",
        "    Parameters\n",
        "    ------------\n",
        "    plain_text : Teks yang akan di enkripsi dan dekripsi\n",
        "    n_shift : jumlah pergeseran hurup\n",
        "    decrypt : isi True jika mau decrypt \n",
        "    \"\"\"\n",
        "    result=\"\"\n",
        "    for hurup in plain_text.upper().replace(\" \",\"\"):\n",
        "      if not decrypt:\n",
        "        result +=self.ALPHABET[(self.ALPHABET.find(hurup)+n_shift) % 26]\n",
        "      else:\n",
        "        result +=self.ALPHABET[(self.ALPHABET.find(hurup)-n_shift) % 26]\n",
        "\n",
        "    return result \n",
        "  \n",
        "  def gen_keyvg(self,p,k):\n",
        "    \"\"\" Generate kunci \n",
        "    Parameters\n",
        "    -------------\n",
        "    plain_text : Teks yang akan di enkripsi dan dekripsi\n",
        "    str_keys : Teks kunci\n",
        "    \"\"\"\n",
        "    jum_loop,sisa=int(len(p.replace(\" \",\"\"))/len(k.replace(\" \",\"\"))),len(p.replace(\" \",\"\"))%len(k.replace(\" \",\"\"))\n",
        "    key_k=\"\"\n",
        "    for i in range(jum_loop):\n",
        "      key_k +=k.replace(\" \",\"\")\n",
        "\n",
        "    if sisa>0 :\n",
        "      for i in range(sisa):\n",
        "        key_k +=k.replace(\" \",\"\")[i]\n",
        "    \n",
        "    return key_k\n",
        "\n",
        "  def vigenere(self,plain_text,str_keys, decrypt=False):\n",
        "    \"\"\"Encrypt metode vigenere chiper \n",
        "    Parameters\n",
        "    -------------\n",
        "    plain_text : Teks yang akan di enkripsi dan dekripsi\n",
        "    str_keys : Teks kunci\n",
        "    \"\"\"  \n",
        "    enkripsi=\"\"\n",
        "    generate_keys=self.gen_keyvg(plain_text,str_keys)\n",
        "\n",
        "    for i,hurup in enumerate(plain_text.upper().replace(\" \",\"\")):\n",
        "      idx_p=self.ALPHABET.find(hurup)\n",
        "      idx_k=self.ALPHABET.find(generate_keys.upper()[i])\n",
        "      if not decrypt:\n",
        "        idx=idx_p+idx_k\n",
        "      else:\n",
        "        idx=idx_p-idx_k\n",
        "      \n",
        "      enkripsi +=self.ALPHABET[ idx % 26]\n",
        "\n",
        "    return enkripsi"
      ],
      "execution_count": null,
      "outputs": []
    },
    {
      "cell_type": "code",
      "metadata": {
        "id": "s1Kcgxe5XysX"
      },
      "source": [
        ""
      ],
      "execution_count": null,
      "outputs": []
    },
    {
      "cell_type": "code",
      "metadata": {
        "colab": {
          "base_uri": "https://localhost:8080/",
          "height": 35
        },
        "id": "436o3u1K0kFF",
        "outputId": "f6ea5397-f700-42f0-969a-67d66ae37f41"
      },
      "source": [
        "kriptoKlasik=classic_crypto()\n",
        "caesar_chiper=kriptoKlasik.caesar(\"selamat mengerjakan UTS\",n_shift=4)\n",
        "caesar_chiper"
      ],
      "execution_count": null,
      "outputs": [
        {
          "output_type": "execute_result",
          "data": {
            "application/vnd.google.colaboratory.intrinsic+json": {
              "type": "string"
            },
            "text/plain": [
              "'WIPEQEXQIRKIVNEOERYXW'"
            ]
          },
          "metadata": {},
          "execution_count": 3
        }
      ]
    },
    {
      "cell_type": "code",
      "metadata": {
        "colab": {
          "base_uri": "https://localhost:8080/",
          "height": 35
        },
        "id": "RYwpD30d0sIJ",
        "outputId": "5c3c2946-08ce-49e6-8fd8-c4f1f2afe866"
      },
      "source": [
        "caesar_chiper=kriptoKlasik.caesar(\"WIPEQEXQIRKIVNEOERYXW\",n_shift=4, decrypt=True)\n",
        "caesar_chiper"
      ],
      "execution_count": null,
      "outputs": [
        {
          "output_type": "execute_result",
          "data": {
            "application/vnd.google.colaboratory.intrinsic+json": {
              "type": "string"
            },
            "text/plain": [
              "'SELAMATMENGERJAKANUTS'"
            ]
          },
          "metadata": {},
          "execution_count": 9
        }
      ]
    },
    {
      "cell_type": "code",
      "metadata": {
        "colab": {
          "base_uri": "https://localhost:8080/"
        },
        "id": "NB7pHSx2E3IC",
        "outputId": "cc6b33b4-e52b-4223-a956-050f9db6f60d"
      },
      "source": [
        "p=\"selamat mengerjakan UTS\"\n",
        "k=\"mata uang dunia adalah kejujuran\"\n",
        "generate_key=kriptoKlasik.gen_keyvg(p,k)\n",
        "print(p.replace(\" \",\"\"))\n",
        "print(generate_key)"
      ],
      "execution_count": null,
      "outputs": [
        {
          "output_type": "stream",
          "name": "stdout",
          "text": [
            "selamatmengerjakanUTS\n",
            "matauangduniaadalahke\n"
          ]
        }
      ]
    },
    {
      "cell_type": "code",
      "metadata": {
        "colab": {
          "base_uri": "https://localhost:8080/",
          "height": 35
        },
        "id": "Iy7H3Jo0JhPP",
        "outputId": "4d08175a-4a22-4c8b-fd2b-ec2459234158"
      },
      "source": [
        "vigen_chiper=kriptoKlasik.vigenere(p,k)\n",
        "vigen_chiper"
      ],
      "execution_count": null,
      "outputs": [
        {
          "output_type": "execute_result",
          "data": {
            "application/vnd.google.colaboratory.intrinsic+json": {
              "type": "string"
            },
            "text/plain": [
              "'EEEAGAGSHHTMRJDKLNBDW'"
            ]
          },
          "metadata": {},
          "execution_count": 11
        }
      ]
    },
    {
      "cell_type": "code",
      "metadata": {
        "colab": {
          "base_uri": "https://localhost:8080/",
          "height": 35
        },
        "id": "K7dR6ZCuIJI9",
        "outputId": "a9beaccd-8217-4c37-b142-29ec53978a96"
      },
      "source": [
        "vigen_chiper=kriptoKlasik.vigenere(\"MKMLSXHDBSNYMA\",\"masasih\",decrypt=True)\n",
        "vigen_chiper"
      ],
      "execution_count": null,
      "outputs": [
        {
          "output_type": "execute_result",
          "data": {
            "application/vnd.google.colaboratory.intrinsic+json": {
              "type": "string"
            },
            "text/plain": [
              "'AKULAPARBANGET'"
            ]
          },
          "metadata": {},
          "execution_count": 7
        }
      ]
    },
    {
      "cell_type": "code",
      "metadata": {
        "colab": {
          "base_uri": "https://localhost:8080/"
        },
        "id": "qSg8aAMEGJGm",
        "outputId": "2de4f36b-afc2-4835-a4ee-fc318de63afe"
      },
      "source": [
        "print(kriptoKlasik.__doc__)"
      ],
      "execution_count": null,
      "outputs": [
        {
          "output_type": "stream",
          "name": "stdout",
          "text": [
            "\n",
            "     Kumpulan kode kripto klasik\n",
            "     dibuat oleh Asep Muhidin, Dosen Universitas Pelita Bangsa, pada tanggal 02/11/2021\n",
            "     Methode Kripto (E=Enkripsi, D=Dekripsi) :\n",
            "     - Caesar chiper (E/D)   =======>100%\n",
            "     - Vigenere chiper (E/D) =======>100%\n",
            "  \n"
          ]
        }
      ]
    },
    {
      "cell_type": "code",
      "metadata": {
        "colab": {
          "base_uri": "https://localhost:8080/"
        },
        "id": "CMuuorYfty5p",
        "outputId": "ecae16ae-50c7-4162-e1b3-90883c0d62ab"
      },
      "source": [
        "#4x + 3y-12=0\n",
        "def y(x):\n",
        "  return (12-4*x)/3\n",
        "\n",
        "y=y(1)\n",
        "y\n",
        "\n"
      ],
      "execution_count": null,
      "outputs": [
        {
          "output_type": "execute_result",
          "data": {
            "text/plain": [
              "2.6666666666666665"
            ]
          },
          "metadata": {},
          "execution_count": 13
        }
      ]
    }
  ]
}