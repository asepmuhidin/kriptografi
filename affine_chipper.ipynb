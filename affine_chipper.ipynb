{
  "nbformat": 4,
  "nbformat_minor": 0,
  "metadata": {
    "colab": {
      "name": "affine_chipper.ipynb",
      "provenance": [],
      "authorship_tag": "ABX9TyOHqgCnaIz3aaxcFl0UCm2Y",
      "include_colab_link": true
    },
    "kernelspec": {
      "name": "python3",
      "display_name": "Python 3"
    },
    "language_info": {
      "name": "python"
    }
  },
  "cells": [
    {
      "cell_type": "markdown",
      "metadata": {
        "id": "view-in-github",
        "colab_type": "text"
      },
      "source": [
        "<a href=\"https://colab.research.google.com/github/asepmuhidin/kriptografi/blob/main/affine_chipper.ipynb\" target=\"_parent\"><img src=\"https://colab.research.google.com/assets/colab-badge.svg\" alt=\"Open In Colab\"/></a>"
      ]
    },
    {
      "cell_type": "code",
      "metadata": {
        "colab": {
          "base_uri": "https://localhost:8080/",
          "height": 35
        },
        "id": "VKfKz5O61DSZ",
        "outputId": "e42f3576-7fd9-42ec-89fe-cf770bad24f6"
      },
      "source": [
        "alphabet=\"ABCDEFGHIJKLMNOPQRSTUPWXYZ\"\n",
        "alphabet[10]"
      ],
      "execution_count": 1,
      "outputs": [
        {
          "output_type": "execute_result",
          "data": {
            "application/vnd.google.colaboratory.intrinsic+json": {
              "type": "string"
            },
            "text/plain": [
              "'K'"
            ]
          },
          "metadata": {},
          "execution_count": 1
        }
      ]
    },
    {
      "cell_type": "code",
      "metadata": {
        "colab": {
          "base_uri": "https://localhost:8080/"
        },
        "id": "-QIQCA1e1wvR",
        "outputId": "428d72c7-279b-4e01-ab76-3a5f336b6d51"
      },
      "source": [
        "import math\n",
        "\n",
        "math.gcd(7,26)"
      ],
      "execution_count": 2,
      "outputs": [
        {
          "output_type": "execute_result",
          "data": {
            "text/plain": [
              "1"
            ]
          },
          "metadata": {},
          "execution_count": 2
        }
      ]
    },
    {
      "cell_type": "code",
      "metadata": {
        "colab": {
          "base_uri": "https://localhost:8080/"
        },
        "id": "VADrnu-c2bcH",
        "outputId": "6ed5406a-c0f0-4da7-c96d-51ed8c1bd9cd"
      },
      "source": [
        "for x in range(0,6):\n",
        "  if math.gcd(x,26)==1 :\n",
        "    print(x)\n"
      ],
      "execution_count": 15,
      "outputs": [
        {
          "output_type": "stream",
          "name": "stdout",
          "text": [
            "1\n",
            "3\n",
            "5\n"
          ]
        }
      ]
    },
    {
      "cell_type": "code",
      "metadata": {
        "colab": {
          "base_uri": "https://localhost:8080/",
          "height": 35
        },
        "id": "kYRZZBBA3W8J",
        "outputId": "64aa2565-6eb1-4757-cd0c-6f47e06ad0f4"
      },
      "source": [
        "alphabet[80%26]"
      ],
      "execution_count": 5,
      "outputs": [
        {
          "output_type": "execute_result",
          "data": {
            "application/vnd.google.colaboratory.intrinsic+json": {
              "type": "string"
            },
            "text/plain": [
              "'C'"
            ]
          },
          "metadata": {},
          "execution_count": 5
        }
      ]
    },
    {
      "cell_type": "code",
      "metadata": {
        "colab": {
          "base_uri": "https://localhost:8080/"
        },
        "id": "p5Iw3IZ_4Gqz",
        "outputId": "99b39e4c-f7be-42ff-a348-aba4acd2aea2"
      },
      "source": [
        "alphabet=\"ABCDEFGHIJKLMNOPQRSTUPWXYZ\"\n",
        "b=10\n",
        "m=7\n",
        "n=26\n",
        "\n",
        "plain_teks=\"kripto\"\n",
        "enkripsi=\"\"\n",
        "for hurup in plain_teks.upper():\n",
        "  p=alphabet.index(hurup)\n",
        "  c=(m*p+b) % n\n",
        "  enkripsi +=alphabet[c]\n",
        "\n",
        "print(enkripsi)"
      ],
      "execution_count": 13,
      "outputs": [
        {
          "output_type": "stream",
          "name": "stdout",
          "text": [
            "CZOLNE\n"
          ]
        }
      ]
    },
    {
      "cell_type": "code",
      "metadata": {
        "id": "-wDUJWky6aKH"
      },
      "source": [
        "def affine_chipper_encrypt(plainTeks,b,m,n=26):\n",
        "  alphabet=\"ABCDEFGHIJKLMNOPQRSTUPWXYZ\"\n",
        "  enkripsi=\"\"\n",
        "  for hurup in plainTeks.replace(\" \",\"\").upper():\n",
        "    p=alphabet.index(hurup)\n",
        "    c=(m*p+b) % n\n",
        "    enkripsi +=alphabet[c]\n",
        "\n",
        "  return enkripsi"
      ],
      "execution_count": 26,
      "outputs": []
    },
    {
      "cell_type": "code",
      "metadata": {
        "colab": {
          "base_uri": "https://localhost:8080/"
        },
        "id": "_0RXI_jS7A8E",
        "outputId": "b0be1b14-74d7-40ce-cfc7-fbdcb1098974"
      },
      "source": [
        "teks=\"aku lapar sekali\"\n",
        "enkripsi=affine_chipper_encrypt(teks,5,3)\n",
        "print(enkripsi)"
      ],
      "execution_count": 27,
      "outputs": [
        {
          "output_type": "stream",
          "name": "stdout",
          "text": [
            "FJNMFYFEHRJFMD\n"
          ]
        }
      ]
    },
    {
      "cell_type": "code",
      "metadata": {
        "colab": {
          "base_uri": "https://localhost:8080/",
          "height": 35
        },
        "id": "K-cudKc97i96",
        "outputId": "d87ed149-15a1-4ad2-8635-fad37ba60378"
      },
      "source": [
        "a=\"aku siapa\"\n",
        "a=a.replace(\" \",\"\")\n",
        "a"
      ],
      "execution_count": 18,
      "outputs": [
        {
          "output_type": "execute_result",
          "data": {
            "application/vnd.google.colaboratory.intrinsic+json": {
              "type": "string"
            },
            "text/plain": [
              "'akusiapa'"
            ]
          },
          "metadata": {},
          "execution_count": 18
        }
      ]
    },
    {
      "cell_type": "code",
      "metadata": {
        "colab": {
          "base_uri": "https://localhost:8080/"
        },
        "id": "x7i0SMI-8oRY",
        "outputId": "712b2467-948e-415a-c522-80e875886029"
      },
      "source": [
        "7*15 % 26"
      ],
      "execution_count": 21,
      "outputs": [
        {
          "output_type": "execute_result",
          "data": {
            "text/plain": [
              "1"
            ]
          },
          "metadata": {},
          "execution_count": 21
        }
      ]
    },
    {
      "cell_type": "code",
      "metadata": {
        "colab": {
          "base_uri": "https://localhost:8080/"
        },
        "id": "vkvCUG8w8zbk",
        "outputId": "6449e552-5f30-4b85-b576-7e7a30f7aa98"
      },
      "source": [
        "for x in range(26):\n",
        "  if x*3 % 26==1 :\n",
        "    print(x)\n",
        "\n",
        "  "
      ],
      "execution_count": 24,
      "outputs": [
        {
          "output_type": "stream",
          "name": "stdout",
          "text": [
            "9\n"
          ]
        }
      ]
    },
    {
      "cell_type": "code",
      "metadata": {
        "colab": {
          "base_uri": "https://localhost:8080/"
        },
        "id": "mvzGQkp5-AJL",
        "outputId": "6db20370-0301-44ee-87e5-70f8db7e1e35"
      },
      "source": [
        "c=\"FJNMFYFEHRJFMD\"\n",
        "b,m,n=5,3,26\n",
        "\n",
        "for x in range(26):\n",
        "  if x*3 % 26==1 :\n",
        "    m1=x\n",
        "    break\n",
        "dekrip=\"\"\n",
        "for hurup in c:\n",
        "  idx=alphabet.index(hurup)\n",
        "  p=m1*(idx-b)%n\n",
        "  dekrip +=alphabet[p]\n",
        "\n",
        "print(dekrip)"
      ],
      "execution_count": 25,
      "outputs": [
        {
          "output_type": "stream",
          "name": "stdout",
          "text": [
            "AKULAPARSEKALI\n"
          ]
        }
      ]
    },
    {
      "cell_type": "code",
      "metadata": {
        "id": "6K6bk8ytAAKM"
      },
      "source": [
        "def invers_m(m):\n",
        "  for x in range(26):\n",
        "    if x*3 % 26==1 :\n",
        "      m1=x\n",
        "      break\n",
        "  return m1    "
      ],
      "execution_count": 28,
      "outputs": []
    },
    {
      "cell_type": "code",
      "metadata": {
        "id": "FbX-nv5W_dDX"
      },
      "source": [
        "def affine_chipper_decrypt(enkripsi_teks,b,m,n=26):\n",
        "  alphabet=\"ABCDEFGHIJKLMNOPQRSTUPWXYZ\"\n",
        "  dekripsi=\"\"\n",
        "  for hurup in enkripsi_teks:\n",
        "    idx=alphabet.index(hurup)\n",
        "    p=invers_m(m)*(idx-b)%n\n",
        "    dekripsi +=alphabet[p]\n",
        "  return dekripsi"
      ],
      "execution_count": 29,
      "outputs": []
    },
    {
      "cell_type": "code",
      "metadata": {
        "colab": {
          "base_uri": "https://localhost:8080/"
        },
        "id": "FPUeZcSTAkfs",
        "outputId": "ad2a228c-9099-48fa-f138-cd5f52379811"
      },
      "source": [
        "c=\"FJNMFYFEHRJFMD\"\n",
        "b,m=5,3\n",
        "print(affine_chipper_decrypt(c,b,m))"
      ],
      "execution_count": 30,
      "outputs": [
        {
          "output_type": "stream",
          "name": "stdout",
          "text": [
            "AKULAPARSEKALI\n"
          ]
        }
      ]
    },
    {
      "cell_type": "code",
      "metadata": {
        "id": "L1FD4EJ6BttO"
      },
      "source": [
        ""
      ],
      "execution_count": null,
      "outputs": []
    }
  ]
}