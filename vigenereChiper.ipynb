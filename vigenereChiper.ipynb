{
  "nbformat": 4,
  "nbformat_minor": 0,
  "metadata": {
    "colab": {
      "provenance": [],
      "authorship_tag": "ABX9TyNxhVkGVqZeDmchWg8wUVKE",
      "include_colab_link": true
    },
    "kernelspec": {
      "name": "python3",
      "display_name": "Python 3"
    },
    "language_info": {
      "name": "python"
    }
  },
  "cells": [
    {
      "cell_type": "markdown",
      "metadata": {
        "id": "view-in-github",
        "colab_type": "text"
      },
      "source": [
        "<a href=\"https://colab.research.google.com/github/asepmuhidin/kriptografi/blob/main/vigenereChiper.ipynb\" target=\"_parent\"><img src=\"https://colab.research.google.com/assets/colab-badge.svg\" alt=\"Open In Colab\"/></a>"
      ]
    },
    {
      "cell_type": "markdown",
      "source": [
        "## plaintext : halo apa kabar\n",
        "## kunci : siapa\n",
        "# sehingga pasangan plan text dan kunci adalah\n",
        "### haloapakabar\n",
        "### siapasiapasi\n",
        "\n",
        "# cj = E(pj) = (pj + ki) mod 26\n",
        "# pj = D(cj) = (cj – ki) mod 26\n",
        "\n"
      ],
      "metadata": {
        "id": "CGl4unPwaomd"
      }
    },
    {
      "cell_type": "code",
      "source": [
        "abjad=['A','B','C','D','E','F','G','H','I',\n",
        "       'J','K','L','M','N','O','P','Q','R',\n",
        "       'S','T','U','V','W','X','Y','Z']\n",
        ""
      ],
      "metadata": {
        "id": "-hsklO2TbW9n"
      },
      "execution_count": 1,
      "outputs": []
    },
    {
      "cell_type": "code",
      "execution_count": 3,
      "metadata": {
        "colab": {
          "base_uri": "https://localhost:8080/",
          "height": 35
        },
        "id": "YWuyoKveam-b",
        "outputId": "5acf9109-97be-42ef-a1b5-fb811d2cce22"
      },
      "outputs": [
        {
          "output_type": "execute_result",
          "data": {
            "text/plain": [
              "'halloapakabar'"
            ],
            "application/vnd.google.colaboratory.intrinsic+json": {
              "type": "string"
            }
          },
          "metadata": {},
          "execution_count": 3
        }
      ],
      "source": [
        "plaintext=\"hallo apa kabar\"\n",
        "plaintext.replace(\" \",\"\")"
      ]
    },
    {
      "cell_type": "code",
      "source": [
        "def remSpace(strText):\n",
        "  return strText.replace(\" \",\"\").upper()"
      ],
      "metadata": {
        "id": "yVcx37-YcgJw"
      },
      "execution_count": 37,
      "outputs": []
    },
    {
      "cell_type": "code",
      "source": [
        "remSpace(\"saya lapar sekali\")"
      ],
      "metadata": {
        "colab": {
          "base_uri": "https://localhost:8080/",
          "height": 35
        },
        "id": "-2R_ufiqcqSr",
        "outputId": "c3549d8a-0bed-4798-9eab-bb4abda21ec4"
      },
      "execution_count": 38,
      "outputs": [
        {
          "output_type": "execute_result",
          "data": {
            "text/plain": [
              "'SAYALAPARSEKALI'"
            ],
            "application/vnd.google.colaboratory.intrinsic+json": {
              "type": "string"
            }
          },
          "metadata": {},
          "execution_count": 38
        }
      ]
    },
    {
      "cell_type": "code",
      "source": [
        "key=\"siapa\""
      ],
      "metadata": {
        "id": "BPTiYboIdnGJ"
      },
      "execution_count": 16,
      "outputs": []
    },
    {
      "cell_type": "code",
      "source": [
        "plainTextClear=remSpace(plaintext)\n",
        "plainTextClear"
      ],
      "metadata": {
        "colab": {
          "base_uri": "https://localhost:8080/",
          "height": 35
        },
        "id": "ZMtFmEMmdDYu",
        "outputId": "45a4d012-cc8f-4fd7-b917-270c97628ca8"
      },
      "execution_count": 13,
      "outputs": [
        {
          "output_type": "execute_result",
          "data": {
            "text/plain": [
              "'halloapakabar'"
            ],
            "application/vnd.google.colaboratory.intrinsic+json": {
              "type": "string"
            }
          },
          "metadata": {},
          "execution_count": 13
        }
      ]
    },
    {
      "cell_type": "code",
      "source": [
        "lengOfPlaintext=len(plainTextClear)\n",
        "lengOfKey=len(key)"
      ],
      "metadata": {
        "id": "JP-R90F5eWad"
      },
      "execution_count": 17,
      "outputs": []
    },
    {
      "cell_type": "code",
      "source": [
        "counter=int(lengOfPlaintext/lengOfKey)\n",
        "sisa=lengOfPlaintext%lengOfKey\n",
        "counter,sisa"
      ],
      "metadata": {
        "colab": {
          "base_uri": "https://localhost:8080/"
        },
        "id": "I4SZKnw6evg7",
        "outputId": "db06a872-585c-42ca-dc93-866c6c91fe1b"
      },
      "execution_count": 20,
      "outputs": [
        {
          "output_type": "execute_result",
          "data": {
            "text/plain": [
              "(2, 3)"
            ]
          },
          "metadata": {},
          "execution_count": 20
        }
      ]
    },
    {
      "cell_type": "code",
      "source": [
        "key[:3]"
      ],
      "metadata": {
        "colab": {
          "base_uri": "https://localhost:8080/",
          "height": 35
        },
        "id": "m5YKMHy9fahs",
        "outputId": "8c6a0550-3e31-41bf-8662-ebe8c64c5900"
      },
      "execution_count": 21,
      "outputs": [
        {
          "output_type": "execute_result",
          "data": {
            "text/plain": [
              "'sia'"
            ],
            "application/vnd.google.colaboratory.intrinsic+json": {
              "type": "string"
            }
          },
          "metadata": {},
          "execution_count": 21
        }
      ]
    },
    {
      "cell_type": "code",
      "source": [
        "keys=key*counter + key[:3]\n",
        "keys"
      ],
      "metadata": {
        "colab": {
          "base_uri": "https://localhost:8080/",
          "height": 35
        },
        "id": "eT_mq9DFfNEd",
        "outputId": "d4e9ba48-d26b-48d4-8d0d-fa526530175d"
      },
      "execution_count": 32,
      "outputs": [
        {
          "output_type": "execute_result",
          "data": {
            "text/plain": [
              "'siapasiapasia'"
            ],
            "application/vnd.google.colaboratory.intrinsic+json": {
              "type": "string"
            }
          },
          "metadata": {},
          "execution_count": 32
        }
      ]
    },
    {
      "cell_type": "code",
      "source": [
        "def keysOfPlainText(kunci,plaintext):\n",
        "  lengOfPlaintext=len(remSpace(plaintext))\n",
        "  lengOfKey=len(kunci)\n",
        "  counter=int(lengOfPlaintext/lengOfKey)\n",
        "  sisa=lengOfPlaintext%lengOfKey\n",
        "  return (kunci*counter + kunci[:sisa]).upper()"
      ],
      "metadata": {
        "id": "xu6S55tnhREC"
      },
      "execution_count": 35,
      "outputs": []
    },
    {
      "cell_type": "code",
      "source": [
        "msg=\"hallo apa kabar\"\n",
        "msgClear=remSpace(plaintext).upper()\n",
        "keys=keysOfPlainText(\"sony\",msg)\n",
        "print(msgClear,keys)\n",
        "#sonysonysonys"
      ],
      "metadata": {
        "colab": {
          "base_uri": "https://localhost:8080/"
        },
        "id": "LlvqjZXnh37H",
        "outputId": "7852da6e-2ed2-4b1b-fe81-008fa74a4cf0"
      },
      "execution_count": 42,
      "outputs": [
        {
          "output_type": "stream",
          "name": "stdout",
          "text": [
            "HALLOAPAKABAR SONYSONYSONYS\n"
          ]
        }
      ]
    },
    {
      "cell_type": "code",
      "source": [
        "for p,k in zip(msgClear,keys):\n",
        "  print(p + '-' + k )\n",
        "  print(str(abjad.index(p)) + '-' + str(abjad.index(k)))"
      ],
      "metadata": {
        "colab": {
          "base_uri": "https://localhost:8080/"
        },
        "id": "yUJT6C4jjijU",
        "outputId": "983cefbf-bb00-4080-e837-7b50d98268b7"
      },
      "execution_count": 46,
      "outputs": [
        {
          "output_type": "stream",
          "name": "stdout",
          "text": [
            "H-S\n",
            "7-18\n",
            "A-O\n",
            "0-14\n",
            "L-N\n",
            "11-13\n",
            "L-Y\n",
            "11-24\n",
            "O-S\n",
            "14-18\n",
            "A-O\n",
            "0-14\n",
            "P-N\n",
            "15-13\n",
            "A-Y\n",
            "0-24\n",
            "K-S\n",
            "10-18\n",
            "A-O\n",
            "0-14\n",
            "B-N\n",
            "1-13\n",
            "A-Y\n",
            "0-24\n",
            "R-S\n",
            "17-18\n"
          ]
        }
      ]
    },
    {
      "cell_type": "code",
      "source": [
        "#E(pj) = (pj + ki) mod 26\n",
        "def vigenereChiper(kunci,plaintext):\n",
        "  enkripsi='';\n",
        "  plaintextClear=remSpace(plaintext)\n",
        "  keys=keysOfPlainText(kunci,plaintextClear)\n",
        "  for p,k in zip(plaintextClear,keys):\n",
        "    pk=(abjad.index(p)+abjad.index(k))%26\n",
        "    enkripsi+=abjad[pk]\n",
        "\n",
        "  return enkripsi\n"
      ],
      "metadata": {
        "id": "gpLSTQOFiRXA"
      },
      "execution_count": 62,
      "outputs": []
    },
    {
      "cell_type": "code",
      "source": [
        "plain=\"thisplaintext\"\n",
        "kunci=\"sony\"\n",
        "enkripsi=vigenereChiper(kunci,plain)\n",
        "enkripsi"
      ],
      "metadata": {
        "colab": {
          "base_uri": "https://localhost:8080/",
          "height": 35
        },
        "id": "UYtavPEbl8RB",
        "outputId": "590a2aa9-2885-44d4-87ed-384986a449c2"
      },
      "execution_count": 63,
      "outputs": [
        {
          "output_type": "execute_result",
          "data": {
            "text/plain": [
              "'LVVQHZNGFHRVL'"
            ],
            "application/vnd.google.colaboratory.intrinsic+json": {
              "type": "string"
            }
          },
          "metadata": {},
          "execution_count": 63
        }
      ]
    },
    {
      "cell_type": "code",
      "source": [
        "#LVVQHZNGFHRVL"
      ],
      "metadata": {
        "id": "7LVFBlWVnRUN"
      },
      "execution_count": null,
      "outputs": []
    }
  ]
}