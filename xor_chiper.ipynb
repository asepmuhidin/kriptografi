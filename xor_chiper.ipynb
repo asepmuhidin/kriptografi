{
  "nbformat": 4,
  "nbformat_minor": 0,
  "metadata": {
    "colab": {
      "name": "xor_chiper.ipynb",
      "provenance": [],
      "authorship_tag": "ABX9TyOLv8Z8ftLs2dz/e2ysIvKW",
      "include_colab_link": true
    },
    "kernelspec": {
      "name": "python3",
      "display_name": "Python 3"
    },
    "language_info": {
      "name": "python"
    }
  },
  "cells": [
    {
      "cell_type": "markdown",
      "metadata": {
        "id": "view-in-github",
        "colab_type": "text"
      },
      "source": [
        "<a href=\"https://colab.research.google.com/github/asepmuhidin/kriptografi/blob/main/xor_chiper.ipynb\" target=\"_parent\"><img src=\"https://colab.research.google.com/assets/colab-badge.svg\" alt=\"Open In Colab\"/></a>"
      ]
    },
    {
      "cell_type": "code",
      "execution_count": 3,
      "metadata": {
        "colab": {
          "base_uri": "https://localhost:8080/",
          "height": 35
        },
        "id": "3Nl_GtSABl0u",
        "outputId": "84bd867e-dc61-405d-da5c-a4e4077a9bec"
      },
      "outputs": [
        {
          "output_type": "execute_result",
          "data": {
            "application/vnd.google.colaboratory.intrinsic+json": {
              "type": "string"
            },
            "text/plain": [
              "'1100'"
            ]
          },
          "metadata": {},
          "execution_count": 3
        }
      ],
      "source": [
        "format(12,'b')"
      ]
    },
    {
      "cell_type": "code",
      "source": [
        "char='e'\n",
        "char1='5'\n",
        "asc_e=ord(char)\n",
        "asc_5=ord(char1)\n",
        "asc_e,asc_5"
      ],
      "metadata": {
        "colab": {
          "base_uri": "https://localhost:8080/"
        },
        "id": "C8vn0qAtGeVJ",
        "outputId": "407ea411-9faa-4b99-9f7e-4bf39cdb5a94"
      },
      "execution_count": 6,
      "outputs": [
        {
          "output_type": "execute_result",
          "data": {
            "text/plain": [
              "(101, 53)"
            ]
          },
          "metadata": {},
          "execution_count": 6
        }
      ]
    },
    {
      "cell_type": "code",
      "source": [
        "bin_e=format(asc_e,'b')\n",
        "bin_5=format(asc_5,'b')\n",
        "bin_e,bin_5"
      ],
      "metadata": {
        "colab": {
          "base_uri": "https://localhost:8080/"
        },
        "id": "0TWq3wI-GoQV",
        "outputId": "db27f1ee-6524-45e4-9615-da22711fa5cb"
      },
      "execution_count": 7,
      "outputs": [
        {
          "output_type": "execute_result",
          "data": {
            "text/plain": [
              "('1100101', '110101')"
            ]
          },
          "metadata": {},
          "execution_count": 7
        }
      ]
    },
    {
      "cell_type": "code",
      "source": [
        "c=asc_e^asc_5\n",
        "c"
      ],
      "metadata": {
        "colab": {
          "base_uri": "https://localhost:8080/"
        },
        "id": "wGgFVZ-AHSck",
        "outputId": "8a505209-192a-4492-a091-3438c149c901"
      },
      "execution_count": 8,
      "outputs": [
        {
          "output_type": "execute_result",
          "data": {
            "text/plain": [
              "80"
            ]
          },
          "metadata": {},
          "execution_count": 8
        }
      ]
    },
    {
      "cell_type": "code",
      "source": [
        "format(c,'b')"
      ],
      "metadata": {
        "colab": {
          "base_uri": "https://localhost:8080/",
          "height": 35
        },
        "id": "sDk_44HoH5Zj",
        "outputId": "cb9764aa-b7bd-4c6b-aba1-e97c6da3683b"
      },
      "execution_count": 11,
      "outputs": [
        {
          "output_type": "execute_result",
          "data": {
            "application/vnd.google.colaboratory.intrinsic+json": {
              "type": "string"
            },
            "text/plain": [
              "'1010000'"
            ]
          },
          "metadata": {},
          "execution_count": 11
        }
      ]
    },
    {
      "cell_type": "code",
      "source": [
        "chr(c)"
      ],
      "metadata": {
        "colab": {
          "base_uri": "https://localhost:8080/",
          "height": 35
        },
        "id": "mwG58jKAHlnx",
        "outputId": "a38ce7df-ac8e-4331-b80e-c0cd9fc11d37"
      },
      "execution_count": 10,
      "outputs": [
        {
          "output_type": "execute_result",
          "data": {
            "application/vnd.google.colaboratory.intrinsic+json": {
              "type": "string"
            },
            "text/plain": [
              "'P'"
            ]
          },
          "metadata": {},
          "execution_count": 10
        }
      ]
    },
    {
      "cell_type": "code",
      "source": [
        "teks= \"dukungtimnas\"\n",
        "kunci=\"555555555555\""
      ],
      "metadata": {
        "id": "BjZLlJCGH__Z"
      },
      "execution_count": 20,
      "outputs": []
    },
    {
      "cell_type": "code",
      "source": [
        "def chiper_teks(c,k):\n",
        "  return chr(ord(c)^ord(k))"
      ],
      "metadata": {
        "id": "WhFfPCYsIUxv"
      },
      "execution_count": 12,
      "outputs": []
    },
    {
      "cell_type": "code",
      "source": [
        "chiper_teks('d','a')"
      ],
      "metadata": {
        "colab": {
          "base_uri": "https://localhost:8080/",
          "height": 35
        },
        "id": "2768fEZsIt2-",
        "outputId": "fbe993a7-37d8-4b3b-adeb-78a94eb01554"
      },
      "execution_count": 18,
      "outputs": [
        {
          "output_type": "execute_result",
          "data": {
            "application/vnd.google.colaboratory.intrinsic+json": {
              "type": "string"
            },
            "text/plain": [
              "'\\x05'"
            ]
          },
          "metadata": {},
          "execution_count": 18
        }
      ]
    },
    {
      "cell_type": "code",
      "source": [
        "res_chiper=\"\"\n",
        "for i,c in enumerate(teks):\n",
        "  res_chiper +=chiper_teks(c,kunci[i])\n",
        "  ##print(c,kunci[i])\n",
        "\n",
        "print(res_chiper)\n"
      ],
      "metadata": {
        "colab": {
          "base_uri": "https://localhost:8080/"
        },
        "id": "Owu0c_thI1KX",
        "outputId": "e21b28c2-42be-4f20-d6de-dc2b81ce049d"
      },
      "execution_count": 21,
      "outputs": [
        {
          "output_type": "stream",
          "name": "stdout",
          "text": [
            "Q@^@[RA\\X[TF\n"
          ]
        }
      ]
    }
  ]
}